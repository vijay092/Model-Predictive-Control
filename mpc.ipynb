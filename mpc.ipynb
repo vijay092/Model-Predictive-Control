{
 "cells": [
  {
   "cell_type": "code",
   "execution_count": 1,
   "metadata": {},
   "outputs": [],
   "source": [
    "import numpy as np\n",
    "import matplotlib.pyplot as plt"
   ]
  },
  {
   "cell_type": "markdown",
   "metadata": {},
   "source": [
    "## Dynamics\n",
    "\n",
    "Let's create a time marching simulation for a single-input single-output linear dynamical system."
   ]
  },
  {
   "cell_type": "code",
   "execution_count": null,
   "metadata": {},
   "outputs": [],
   "source": [
    "A = np.array([[0.1, 0], [0, 0.3]])\n",
    "B = np.array([[0], [1]])\n",
    "C = np.array([0,1])\n",
    "D = 0"
   ]
  },
  {
   "cell_type": "code",
   "execution_count": null,
   "metadata": {},
   "outputs": [],
   "source": [
    "Nts = 10\n",
    "\n",
    "X = np.zeros((len(A), Nts))\n",
    "Y = np.zeros((1, Nts))\n",
    "U = np.ones(len(A, 1))\n",
    "# Time marching\n",
    "for k in range(Nts):\n",
    "    X[:,k+1] = np.dot(A,X[:,k]) + np.dot(B, U[:,k])\n",
    "    Y[:,k+1] = np.dot(C, X[:k]) "
   ]
  }
 ],
 "metadata": {
  "interpreter": {
   "hash": "238840ff0d09736ecd12079016eafcdf3cf3a019d2be9b90237fff8b5ac2f785"
  },
  "kernelspec": {
   "display_name": "Python 3.7.3 ('base')",
   "language": "python",
   "name": "python3"
  },
  "language_info": {
   "codemirror_mode": {
    "name": "ipython",
    "version": 3
   },
   "file_extension": ".py",
   "mimetype": "text/x-python",
   "name": "python",
   "nbconvert_exporter": "python",
   "pygments_lexer": "ipython3",
   "version": "3.7.3"
  },
  "orig_nbformat": 4
 },
 "nbformat": 4,
 "nbformat_minor": 2
}
